{
 "cells": [
  {
   "cell_type": "markdown",
   "metadata": {},
   "source": [
    "Here we define S(x) and S(y) in a way which is similar to how we used hop distances for creating matrix.\n",
    "- S(x) represents nodes which are 2 hops away from x. Effectively this produces nodes on same side of the network as x because traveling two hops would be equivalent to going to x’s neighbor and then coming back again to the same side of x.\n",
    "- S(y) represents y’s neighbors. These rep- resent nodes on opposite side of y, which is nothing but same side of x, because we have modeled the graph as bipartite in this case.\n",
    "- Similarity Metrics to consider: Jaccard Similarity, Common Neighbors\n",
    "- S(x) returns nodes which are similar to x since they are 2 hops away and on same side of x. S(x) can be users and then calculated all the hotel’s neighbors, S(x) can also be hotels and then calculated all user’s neighbors for S(y).\n"
   ]
  },
  {
   "cell_type": "code",
   "execution_count": 1,
   "metadata": {},
   "outputs": [],
   "source": [
    "import snap, datetime, json\n",
    "\n",
    "def load_json(fname):\n",
    "    with open(fname) as f:\n",
    "        return json.load(f)\n",
    "    \n",
    "def write_json(d, fname):\n",
    "    with open(fname, 'w') as f:\n",
    "        f.write(json.dumps(d))"
   ]
  },
  {
   "cell_type": "code",
   "execution_count": 2,
   "metadata": {},
   "outputs": [],
   "source": [
    "def hopper(nodeid, graph):\n",
    "    hop_n = snap.TIntV()\n",
    "    snap.GetNodesAtHop(graph, nodeid, 2, hop_n, True)\n",
    "    del graph\n",
    "    return {hop for hop in hop_n}"
   ]
  },
  {
   "cell_type": "code",
   "execution_count": 4,
   "metadata": {},
   "outputs": [],
   "source": [
    "def cal_hop2_dis(nodes, matrix, graph, checkstr, nodes_2hop):\n",
    "    '''return nodes that are 2 hops distance for each user id'''\n",
    "    hops = {}\n",
    "    for i in matrix:\n",
    "        if checkstr == 'users':\n",
    "            nodeid = int(i)\n",
    "            if nodeid in nodes:\n",
    "                hops[nodeid] = hopper(nodeid, graph)\n",
    "        else:\n",
    "            for j in matrix[i]:\n",
    "                if int(j) not in nodes_2hop:\n",
    "                    nodeid = int(j)\n",
    "                    if nodeid in nodes:\n",
    "                        hops[nodeid] = hopper(nodeid, graph)\n",
    "    del nodes, matrix, graph, nodes_2hop\n",
    "    return hops\n",
    "            "
   ]
  },
  {
   "cell_type": "code",
   "execution_count": 6,
   "metadata": {},
   "outputs": [],
   "source": [
    "def get_hotels_neighbor(nodes, matrix, graph):\n",
    "    neighbors = {}\n",
    "    for i in matrix:\n",
    "        for j in matrix[i]:\n",
    "            if int(j) not in neighbors and int(j) in nodes:\n",
    "                temp = snap.TIntV()\n",
    "                snap.GetNodesAtHop(graph, int(j), 1, temp, True)\n",
    "                neighbors[int(j)] = {t for t in temp}\n",
    "    del nodes, matrix, graph\n",
    "    return neighbors\n",
    "\n",
    "def get_user_neighbor(nodes, matrix, graph):\n",
    "    neighbors = {}\n",
    "    for i in matrix:\n",
    "        if int(i) not in neighbors and int(i) in nodes:\n",
    "            temp = snap.TIntV()\n",
    "            snap.GetNodesAtHop(graph,int(i),1,temp,True)\n",
    "            neighbors[int(i)] = {t for t in temp}\n",
    "    del nodes, matrix, graph\n",
    "    return neighbors"
   ]
  },
  {
   "cell_type": "code",
   "execution_count": 12,
   "metadata": {},
   "outputs": [],
   "source": [
    "def jaccard(a, b):\n",
    "    return float(len(a.intersection(b)))/float(len(a.union(b)))\n",
    "\n",
    "def common_neighbors(a,b):\n",
    "    return len(a.itersection(b))\n",
    "\n",
    "def cal_similarity(matrix, s, f, nodes_2hop, neighbors, nodes):\n",
    "    mat = {}\n",
    "    for i in matrix:\n",
    "        for j in matrix[i]:\n",
    "            if int(i) in nodes and int(j) in nodes:\n",
    "                if s == 'jaccard':\n",
    "                    mat[i][j] = jaccard(nodes_2hop[int(j)], neighbors[int(j)])\n",
    "                elif s == 'common_neighbors' :\n",
    "                    mat[i][j] = common_neighbors(nodes_2hop[int(i)], neighbors[int(j)])\n",
    "            else:\n",
    "                mat[i][j]=0 \n",
    "    return mat\n",
    "\n",
    "\n"
   ]
  },
  {
   "cell_type": "code",
   "execution_count": 13,
   "metadata": {},
   "outputs": [],
   "source": [
    "def hotels(matrix, graph, sims, out):\n",
    "    print \"Dealing With Hotels...\"\n",
    "    nodes = [N.GetId() for N in snap.Nodes(graph)]\n",
    "    nodes_2hop = {}\n",
    "    print 'Get hop2 nodes for hotels'\n",
    "    nodes_2hop = cal_hop2_dis(nodes, matrix, graph, \"hotel\", nodes_2hop)\n",
    "    print \"Get neighbors for hotels\"\n",
    "    neighbors = get_user_neighbor(nodes, matrix, graph)\n",
    "    \n",
    "    for s,f in zip(sims, out):\n",
    "        user_sim = cal_similarity(matrix, s, f, nodes_2hop,neighbors, nodes)\n",
    "        write_json(user_sim, f)\n",
    "\n",
    "def users(matrix, graph, sims, out):\n",
    "    print \"Dealing With Users...\"\n",
    "    nodes = [N.GetId() for N in snap.Nodes(graph)]\n",
    "    nodes_2hop = {}\n",
    "    print 'Get hop2 nodes for users'\n",
    "    nodes_2hop = cal_hop2_dis(nodes, matrix, graph, \"users\", nodes_2hop)\n",
    "    print \"Get neighbors for users\"\n",
    "    neighbors = get_hotels_neighbor(nodes, matrix, graph)\n",
    "    \n",
    "    for s,f in zip(sims, out):\n",
    "        user_sim = cal_similarity(matrix, s, f, nodes_2hop,neighbors, nodes)\n",
    "        write_json(user_sim, f)\n",
    "\n"
   ]
  },
  {
   "cell_type": "code",
   "execution_count": null,
   "metadata": {},
   "outputs": [
    {
     "name": "stdout",
     "output_type": "stream",
     "text": [
      "Dealing With Hotels...\n",
      "Get hop2 nodes for hotels\n"
     ]
    }
   ],
   "source": [
    "def caller(matrix, graph, usims, uout, hsims, hout):\n",
    "    start = datetime.datetime.now()\n",
    "    matrix = load_json(matrix)\n",
    "    graph = snap.LoadEdgeList(snap.PUNGraph,graph, 0, 1)\n",
    "    hotels(matrix, graph, hsims, hout)\n",
    "    users(matrix, graph, usims, uout)\n",
    "\n",
    "if __name__ == '__main__':\n",
    "    train = \"./data/train/\"\n",
    "    caller(train+'matrix.json', train+'graph.txt', ['jaccard', 'cn'],\n",
    "         [train + \"user_cn.json,\", train+'user_jac.json'], ['jaccard', 'cn'],\n",
    "         [train + 'hotel_cn.json', train+'hotel_jac.json'])\n",
    "    test = \"./data/test/\"\n",
    "    caller(test+'matrix.json', test+'graph.txt', ['jaccard', 'cn'],\n",
    "         [test+'user_cn.json', test+'user_jac.json'], ['jaccard', 'cn'],\n",
    "         [test+'hotel_cn.json', test+'hotel_jac.json'],)"
   ]
  },
  {
   "cell_type": "code",
   "execution_count": null,
   "metadata": {},
   "outputs": [],
   "source": []
  }
 ],
 "metadata": {
  "kernelspec": {
   "display_name": "Python 2",
   "language": "python",
   "name": "python2"
  },
  "language_info": {
   "codemirror_mode": {
    "name": "ipython",
    "version": 2
   },
   "file_extension": ".py",
   "mimetype": "text/x-python",
   "name": "python",
   "nbconvert_exporter": "python",
   "pygments_lexer": "ipython2",
   "version": "2.7.15"
  }
 },
 "nbformat": 4,
 "nbformat_minor": 2
}
