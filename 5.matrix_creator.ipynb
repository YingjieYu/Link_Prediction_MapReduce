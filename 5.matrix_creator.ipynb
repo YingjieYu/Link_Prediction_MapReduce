{
 "cells": [
  {
   "cell_type": "markdown",
   "metadata": {},
   "source": [
    "- create a matrix file so that it could be used by classifier to predict the output.\n",
    "-  did a further filtering to ensure data is not overly skewed and it is at an acceptable level.\n",
    "  -  Only taking users who have been active in the last six months.\n",
    "  - Only taking hotels which are at a distance 3 or 3 hop distance from current user as candidate edges using span.py"
   ]
  },
  {
   "cell_type": "markdown",
   "metadata": {},
   "source": [
    "input: graph.txt"
   ]
  },
  {
   "cell_type": "code",
   "execution_count": 2,
   "metadata": {},
   "outputs": [],
   "source": [
    "import snap, datetime, json\n",
    "from collections import Counter, defaultdict\n",
    "import random"
   ]
  },
  {
   "cell_type": "code",
   "execution_count": 29,
   "metadata": {},
   "outputs": [],
   "source": [
    "def convert_date(dic):\n",
    "    date = dic['Date']\n",
    "    return datetime.date(*map(int, date.split(\" \")[0].split('-')))\n",
    "def write_json(d, fname):\n",
    "    with open(fname,'w') as f:\n",
    "        f.write(json.dumps(d))\n",
    "def load_json(fname):\n",
    "    with open(fname) as f:\n",
    "        return json.load(f)\n",
    "def iterator(itr):\n",
    "    for elem in itr:\n",
    "        yield elem"
   ]
  },
  {
   "cell_type": "code",
   "execution_count": 36,
   "metadata": {},
   "outputs": [],
   "source": [
    "def matrix_creator(inpdir, num_users=0, mind=1, min_active_time=None, edge_only=False):\n",
    "   \n",
    "    active_now = []\n",
    "    users = []\n",
    "    users_rest = []\n",
    "    \n",
    "    G = snap.LoadEdgeList(snap.PUNGraph, inpdir + 'graph.txt', 0, 1)\n",
    "    with open(inpdir + 'graph.txt') as f:\n",
    "        edges = {tuple(map(int, line.split())) for line in f}\n",
    "    \n",
    "    edge_count = Counter()\n",
    "    for (u, h) in edges:\n",
    "        edge_count[u] += 1\n",
    "        \n",
    "    review_it = load_json(inpdir + 'review.json')\n",
    "    num_hotels = len(load_json(inpdir + \"hotels.json\"))\n",
    "    \n",
    "    for Node in iterator(G.Nodes()):\n",
    "        u = Node.GetId()\n",
    "        if edge_only and not u in edge_count: continue\n",
    "        if str(u) not in review_it or Node.GetOutDeg() < mind: continue\n",
    "        if min_active_time:\n",
    "            reviewed_now = False\n",
    "            for b in review_it[str(u)]:\n",
    "                if (int(u), int(b)) in edges: continue\n",
    "                for r in review_it[str(u)][b]:\n",
    "                    if convert_date(r) > min_active_time:\n",
    "                        users.append(u)\n",
    "                        active_now.append(u)\n",
    "                        reviewed_now = True\n",
    "                        break\n",
    "                if reviewed_now: break\n",
    "            if not reviewed_now: users_rest.append(u)\n",
    "        else:\n",
    "            users.append(u)\n",
    "\n",
    "    if min_active_time:\n",
    "        rp = sum(edge_count[u] for u in active_now)\n",
    "        re = len(active_now) * num_hotels\n",
    "        op = sum(edge_count[u] for u in users_rest)\n",
    "        oe = len(users_rest) * num_hotels\n",
    "        \n",
    "    random.seed(0)\n",
    "    users = random.sample(users, num_users)\n",
    "\n",
    "    matrix = defaultdict(dict)\n",
    "    for u in iterator(users):\n",
    "        ch = snap.TIntV()\n",
    "        snap.GetNodesAtHop(G, u, 3, ch, True)\n",
    "        for h in ch:\n",
    "            if random.random() < 0.01:\n",
    "                matrix[u][h] = 0\n",
    "            elif (u, h) in edges:\n",
    "                matrix[u][h] = 1\n",
    "\n",
    "    pos_3hop = 0\n",
    "    pos_3hop = sum([matrix[u][h] for u in matrix for h in matrix[u]])\n",
    "    exmp_3hop = sum(len(matrix[u]) for u in matrix)\n",
    "    np = sum([edge_count[u] for u in users])\n",
    "    ne = len(users) * num_hotels\n",
    "    write_json(matrix, inpdir + 'matrix.json')"
   ]
  },
  {
   "cell_type": "code",
   "execution_count": 37,
   "metadata": {},
   "outputs": [],
   "source": [
    "if __name__ == '__main__':\n",
    "    matrix_creator('./data/train/',num_users=10000, mind=1, edge_only=False)\n",
    "    matrix_creator('./data/test/', num_users=10000, mind=1, edge_only=False)"
   ]
  },
  {
   "cell_type": "code",
   "execution_count": null,
   "metadata": {},
   "outputs": [],
   "source": []
  }
 ],
 "metadata": {
  "kernelspec": {
   "display_name": "Python 2",
   "language": "python",
   "name": "python2"
  },
  "language_info": {
   "codemirror_mode": {
    "name": "ipython",
    "version": 2
   },
   "file_extension": ".py",
   "mimetype": "text/x-python",
   "name": "python",
   "nbconvert_exporter": "python",
   "pygments_lexer": "ipython2",
   "version": "2.7.15"
  }
 },
 "nbformat": 4,
 "nbformat_minor": 2
}
