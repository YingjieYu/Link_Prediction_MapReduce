{
 "cells": [
  {
   "cell_type": "code",
   "execution_count": 1,
   "metadata": {},
   "outputs": [],
   "source": [
    "import pandas as pd\n",
    "import snap, datetime, math, json\n",
    "from collections import defaultdict\n",
    "from sklearn.feature_extraction import DictVectorizer\n",
    "from sklearn.ensemble import GradientBoostingClassifier, RandomForestClassifier\n",
    "from sklearn.metrics import roc_auc_score, roc_curve\n",
    "from operator import itemgetter"
   ]
  },
  {
   "cell_type": "code",
   "execution_count": 2,
   "metadata": {},
   "outputs": [],
   "source": [
    "def load_json(fname):\n",
    "    with open(fname) as f:\n",
    "        return json.load(f)\n",
    "    \n",
    "def write_json(d, fname):\n",
    "    with open(fname, 'w') as f:\n",
    "        f.write(json.dumps(d))\n",
    "    \n",
    "def score_ext(tot, f):\n",
    "    return pd.read_json('./data/' + tot + '/' + f + '.json')"
   ]
  },
  {
   "cell_type": "code",
   "execution_count": 3,
   "metadata": {},
   "outputs": [],
   "source": [
    "def feature_extractor(i, j, scores, users, hotels):\n",
    "    features = {sn: scores[sn][i][j] for sn in scores}\n",
    "    features[\"hotel_review\"] = float(hotels[\"ReviewCount\"])\n",
    "    features[\"user_review\"] = float(users[\"ReviewCount\"])\n",
    "    features[\"hotel_loc\"] = float(hotels[\"HotelLocation\"])\n",
    "    features[\"user_loc\"] = float(users[\"UserLocation\"])\n",
    "    return features"
   ]
  },
  {
   "cell_type": "code",
   "execution_count": 5,
   "metadata": {},
   "outputs": [],
   "source": [
    "def build_train_test(data, vectorizer):\n",
    "    matrix = load_json('./data/' + data + '/matrix.json')\n",
    "    users = load_json('./data/' + data + '/user.json')\n",
    "    hotels = load_json('./data/' + data + '/hotels.json')\n",
    "    \n",
    "    scores = {f: load_json('./data/' + data + '/' + f + '.json') for f in\n",
    "                            ['random_walks_by_weight', 'random_walks','hotel_cn',\n",
    "                            'hotel_jac', 'user_cn', 'user_jac']}\n",
    "    feature_dataframe, y, z = pd.DataFrame(), pd.DataFrame, []\n",
    "    for i in matrix:\n",
    "        for j in matrix[i]:\n",
    "            z.append((i,j))\n",
    "            y.append(matrix[i][j])\n",
    "            feature_dataframe.append(feature_extractor(i, j, scores, users[i], hotels[i]))\n",
    "            feature_dataframe.fillna(0)\n",
    "            \n",
    "    frame_as_dic = [dict(r.iteritems()) for _, r in feature_dataframe.iterrows()]\n",
    "    if data == 'train':\n",
    "        X = vectorizer.fit_transform(frame_as_dic)\n",
    "    else:\n",
    "        X = vectorizer.transform(frame_as_dic)\n",
    "    return X,y,z"
   ]
  },
  {
   "cell_type": "code",
   "execution_count": 6,
   "metadata": {},
   "outputs": [],
   "source": [
    "def classifier():\n",
    "    vectorizer = DictVectorizer(sparse=False)\n",
    "    X_train, y_train, z_train = build_train_test(\"train\", vectorizer)\n",
    "    X_test, y_test, z_test = build_train_test(\"test\", vectorizer)\n",
    "    clf = GradientBoostingClassifier(n_estimators = 5000, max_depth = 5)\n",
    "    clf2 = RandomForestClassifier(n_estimators = 2000, max_depth = 4)\n",
    "    clf.fit(X_train, y_train)\n",
    "    clf2.fit(X_train, y_train)\n",
    "    prediction = clf.predict_proba(X_test)[:, 1]\n",
    "    prediction2 = clf2.predict_proba(X_test)[:, 1]\n",
    "    scores = defaultdict(dict)\n",
    "    for (i, j), p in zip(z_test, prediction):\n",
    "        scores[i][j] = p\n",
    "    write_json(scores, './data/test/boosting_classifier.json')\n",
    "    \n",
    "    scores2 = defaultdict(dict)\n",
    "    for (i, j), p in zip(z_test, prediction2):\n",
    "        scores2[i][j] = p\n",
    "    write_json(scores2, './data/test/random_classifier.json')\n",
    "\n",
    "feat_list = ['matrix', 'svd', 'random_walks_by_weight', 'random_walks','hotel_cn', 'hotel_jac', 'user_cn', 'user_jac',\n",
    "                    'boosting_classifier', 'random_classifier']"
   ]
  },
  {
   "cell_type": "code",
   "execution_count": 7,
   "metadata": {},
   "outputs": [],
   "source": [
    "def evaluation(matrix, feat, prec = 10):\n",
    "    for i, feature in enumerate(feat):\n",
    "        predictions = load_json('./data/test/' + feature + '.json')\n",
    "        tot_pre = 0\n",
    "        ys, ps = [], []\n",
    "        for j in predictions:\n",
    "            y, p = zip(*[(matrix[j][k], predictions[j][k]) for k in predictions[j]])\n",
    "            n = min(prec, len(y))\n",
    "            tot_pre += sum(zip(*sorted(zip(y, p), key=itemgetter(1), reverse=True))[0][:n]) / float(n)\n",
    "            ys += y\n",
    "            ps += p\n",
    "\n",
    "        roc_auc = roc_auc_score(ys, ps)\n",
    "        fpr, tpr, t = roc_curve(ys, ps)\n",
    "        print \"Method:\", feature\n",
    "#         print \"  Precision @{:} = {:.4f}\".format(prec, tot_pre / len(matrix))\n",
    "        print \"  ROC Auc = {:.4f}\".format(roc_auc)"
   ]
  },
  {
   "cell_type": "code",
   "execution_count": null,
   "metadata": {},
   "outputs": [],
   "source": [
    "if __name__ == '__main__':\n",
    "    classifier()\n",
    "    evaluation(load_json('data/test/matrix.json'), feat_list)\n"
   ]
  }
 ],
 "metadata": {
  "kernelspec": {
   "display_name": "Python 2",
   "language": "python",
   "name": "python2"
  },
  "language_info": {
   "codemirror_mode": {
    "name": "ipython",
    "version": 2
   },
   "file_extension": ".py",
   "mimetype": "text/x-python",
   "name": "python",
   "nbconvert_exporter": "python",
   "pygments_lexer": "ipython2",
   "version": "2.7.15"
  }
 },
 "nbformat": 4,
 "nbformat_minor": 2
}
