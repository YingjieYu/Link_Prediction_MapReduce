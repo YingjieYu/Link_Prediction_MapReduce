{
 "cells": [
  {
   "cell_type": "code",
   "execution_count": 2,
   "metadata": {},
   "outputs": [],
   "source": [
    "import snap, datetime, json\n",
    "from collections import Counter, defaultdict \n",
    "import random\n",
    "import os"
   ]
  },
  {
   "cell_type": "markdown",
   "metadata": {},
   "source": [
    "As snap dose not support python3, using python2 kernel in jupyter instead."
   ]
  },
  {
   "cell_type": "code",
   "execution_count": 3,
   "metadata": {},
   "outputs": [],
   "source": [
    "def write_json(d, fname):\n",
    "    with open(fname,'w') as f:\n",
    "        f.write(json.dumps(d))\n",
    "\n",
    "def load_json(fname):\n",
    "    with open(fname) as f:\n",
    "        return json.load(f)\n"
   ]
  },
  {
   "cell_type": "markdown",
   "metadata": {},
   "source": [
    "From the hotels and users file, picked out\n",
    "the IDs and then assigned a unique ID for each\n",
    "of the HotelID and UserID which is a running\n",
    "sequence so that there is better clarity when\n",
    "we look at the graph data file"
   ]
  },
  {
   "cell_type": "code",
   "execution_count": 15,
   "metadata": {},
   "outputs": [
    {
     "name": "stdout",
     "output_type": "stream",
     "text": [
      "0\n",
      "1\n",
      "2\n",
      "2\n"
     ]
    }
   ],
   "source": [
    "class IdsAsInt():\n",
    "    '''give node unique id in graph\n",
    "    in snap, each node should have an unique id,\n",
    "    edges could or could not have unique id in \n",
    "    both directed and undirected graph'''\n",
    "    def __init__(self):\n",
    "        self.x = -1\n",
    "        self.n = {}\n",
    "    def __getitem__(self,key):\n",
    "        if key not in self.n:\n",
    "            self.x +=1\n",
    "            self.n[key] = self.x\n",
    "        return self.n[key]\n",
    "nid = IdsAsInt()\n",
    "print nid[1]\n",
    "print nid[2]\n",
    "print nid[3]\n",
    "print nid[3]"
   ]
  },
  {
   "cell_type": "code",
   "execution_count": 5,
   "metadata": {},
   "outputs": [],
   "source": [
    "def convert_date(dic):\n",
    "    date = dic['Date']\n",
    "    return datetime.date(*map(int, date.split(\" \")[0].split(\"-\")))\n"
   ]
  },
  {
   "cell_type": "markdown",
   "metadata": {},
   "source": [
    "Once IDs were\n",
    "created then created the graph.txt file for\n",
    "both test and train data which will contain all\n",
    "the edges in the current dataset represented by\n",
    "nodes on either side."
   ]
  },
  {
   "cell_type": "code",
   "execution_count": null,
   "metadata": {},
   "outputs": [],
   "source": []
  },
  {
   "cell_type": "markdown",
   "metadata": {},
   "source": [
    "note: reviews.json have folowing variables:\n",
    "##### userID：\n",
    "1. Ratings\n",
    "2. Author name or User name\n",
    "3. Author Location\n",
    "4. Date of Review\n",
    "5. HotelID\n",
    "6. Hotel Location"
   ]
  },
  {
   "cell_type": "code",
   "execution_count": 25,
   "metadata": {},
   "outputs": [],
   "source": [
    "def create_final_json(nid, nids, inp, out):\n",
    "    return write_json({nid(x):y for x,y in load_json(inp).iteritems() if nid(x) in nids},out)\n",
    "\n",
    "\n",
    "def make_graph(t1,out):\n",
    "    '''t1 as a time split between train and test data set'''\n",
    "    nid = IdsAsInt()\n",
    "    reviews_it = {}\n",
    "    \n",
    "    with open(\"./data/created/review.json\") as f:\n",
    "        reviews_it = json.load(f)\n",
    "    nids = set() #set of unique node ids created from IdsAsInt class\n",
    "    for key,review in reviews_it.iteritems():\n",
    "        if convert_date(review) < t1: # time split for train and test data\n",
    "            nids.add(nid['u' + review['Author']])\n",
    "            nids.add(nid['h' + review['HotelID']])\n",
    "    create_final_json(lambda ud: nid['u'+ud], nids, './data/created/users.json', out + 'user.json')\n",
    "    create_final_json(lambda hd: nid['h'+hd], nids, './data/created/hotels.json', out + 'hotels.json')\n",
    "    \n",
    "    with open(out + 'graph.txt','w') as graph:\n",
    "        review_data = defaultdict(lambda: defaultdict(list))\n",
    "        for key, review in reviews_it.iteritems():\n",
    "            ukey = nid['u'+review['Author']]\n",
    "            hkey = nid['h' + review['HotelID']]\n",
    "            if ukey in nids and hkey in nids:\n",
    "                date = convert_date(review)\n",
    "                if date <t1:\n",
    "                    review_data[ukey][hkey].append(review)\n",
    "                    graph.write(\"{:} {:}\\n\".format(ukey,hkey))\n",
    "        for r in review_data:\n",
    "            for ur in review_data[r]:\n",
    "                review_data[r][ur] = sorted(review_data[r][ur],key=convert_date,reverse=True)\n",
    "        write_json(review_data,out + \"review.json\")"
   ]
  },
  {
   "cell_type": "code",
   "execution_count": 26,
   "metadata": {},
   "outputs": [],
   "source": [
    "if __name__ == '__main__':\n",
    "    make_graph(datetime.date(2011,2,15),'./data/train/')\n",
    "    make_graph(datetime.date(2012,2,15),'./data/test/')"
   ]
  },
  {
   "cell_type": "code",
   "execution_count": null,
   "metadata": {},
   "outputs": [],
   "source": []
  }
 ],
 "metadata": {
  "kernelspec": {
   "display_name": "Python 2",
   "language": "python",
   "name": "python2"
  },
  "language_info": {
   "codemirror_mode": {
    "name": "ipython",
    "version": 2
   },
   "file_extension": ".py",
   "mimetype": "text/x-python",
   "name": "python",
   "nbconvert_exporter": "python",
   "pygments_lexer": "ipython2",
   "version": "2.7.15"
  }
 },
 "nbformat": 4,
 "nbformat_minor": 2
}
